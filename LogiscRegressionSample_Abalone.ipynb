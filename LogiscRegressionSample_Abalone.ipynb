{
  "nbformat": 4,
  "nbformat_minor": 0,
  "metadata": {
    "colab": {
      "name": "Untitled0.ipynb",
      "provenance": [],
      "authorship_tag": "ABX9TyNfWv6u997VzayLJDqu62wq",
      "include_colab_link": true
    },
    "kernelspec": {
      "name": "python3",
      "display_name": "Python 3"
    }
  },
  "cells": [
    {
      "cell_type": "markdown",
      "metadata": {
        "id": "view-in-github",
        "colab_type": "text"
      },
      "source": [
        "<a href=\"https://colab.research.google.com/github/PKohli876/StudySamples/blob/main/LogiscRegressionSample_Abalone.ipynb\" target=\"_parent\"><img src=\"https://colab.research.google.com/assets/colab-badge.svg\" alt=\"Open In Colab\"/></a>"
      ]
    },
    {
      "cell_type": "code",
      "metadata": {
        "colab": {
          "base_uri": "https://localhost:8080/",
          "height": 204
        },
        "id": "omkm9oy8WihJ",
        "outputId": "92f5c054-65d1-48f7-ba4e-d7e763aeadab"
      },
      "source": [
        "#Step1 : Load Numpy and Panda\r\n",
        "import numpy as np\r\n",
        "import pandas as pd\r\n",
        "\r\n",
        "#Step2 : Load Dataset\r\n",
        "abalone_df = pd.read_csv(\"https://raw.githubusercontent.com/insaid2018/CDF-Certification-Quiz-Data/master/Abalone/02-Data.csv\")\r\n",
        "abalone_df.head()"
      ],
      "execution_count": null,
      "outputs": [
        {
          "output_type": "execute_result",
          "data": {
            "text/html": [
              "<div>\n",
              "<style scoped>\n",
              "    .dataframe tbody tr th:only-of-type {\n",
              "        vertical-align: middle;\n",
              "    }\n",
              "\n",
              "    .dataframe tbody tr th {\n",
              "        vertical-align: top;\n",
              "    }\n",
              "\n",
              "    .dataframe thead th {\n",
              "        text-align: right;\n",
              "    }\n",
              "</style>\n",
              "<table border=\"1\" class=\"dataframe\">\n",
              "  <thead>\n",
              "    <tr style=\"text-align: right;\">\n",
              "      <th></th>\n",
              "      <th>Sex</th>\n",
              "      <th>Length</th>\n",
              "      <th>Diameter</th>\n",
              "      <th>Height</th>\n",
              "      <th>Whole weight</th>\n",
              "      <th>Shucked weight</th>\n",
              "      <th>Viscera weight</th>\n",
              "      <th>Shell weight</th>\n",
              "      <th>Adult</th>\n",
              "    </tr>\n",
              "  </thead>\n",
              "  <tbody>\n",
              "    <tr>\n",
              "      <th>0</th>\n",
              "      <td>M</td>\n",
              "      <td>0.455</td>\n",
              "      <td>0.365</td>\n",
              "      <td>0.095</td>\n",
              "      <td>0.5140</td>\n",
              "      <td>0.2245</td>\n",
              "      <td>0.1010</td>\n",
              "      <td>0.150</td>\n",
              "      <td>1</td>\n",
              "    </tr>\n",
              "    <tr>\n",
              "      <th>1</th>\n",
              "      <td>M</td>\n",
              "      <td>0.350</td>\n",
              "      <td>0.265</td>\n",
              "      <td>0.090</td>\n",
              "      <td>0.2255</td>\n",
              "      <td>0.0995</td>\n",
              "      <td>0.0485</td>\n",
              "      <td>0.070</td>\n",
              "      <td>0</td>\n",
              "    </tr>\n",
              "    <tr>\n",
              "      <th>2</th>\n",
              "      <td>F</td>\n",
              "      <td>0.530</td>\n",
              "      <td>0.420</td>\n",
              "      <td>0.135</td>\n",
              "      <td>0.6770</td>\n",
              "      <td>0.2565</td>\n",
              "      <td>0.1415</td>\n",
              "      <td>0.210</td>\n",
              "      <td>1</td>\n",
              "    </tr>\n",
              "    <tr>\n",
              "      <th>3</th>\n",
              "      <td>M</td>\n",
              "      <td>0.440</td>\n",
              "      <td>0.365</td>\n",
              "      <td>0.125</td>\n",
              "      <td>0.5160</td>\n",
              "      <td>0.2155</td>\n",
              "      <td>0.1140</td>\n",
              "      <td>0.155</td>\n",
              "      <td>1</td>\n",
              "    </tr>\n",
              "    <tr>\n",
              "      <th>4</th>\n",
              "      <td>M</td>\n",
              "      <td>0.330</td>\n",
              "      <td>0.255</td>\n",
              "      <td>0.080</td>\n",
              "      <td>0.2050</td>\n",
              "      <td>0.0895</td>\n",
              "      <td>0.0395</td>\n",
              "      <td>0.055</td>\n",
              "      <td>0</td>\n",
              "    </tr>\n",
              "  </tbody>\n",
              "</table>\n",
              "</div>"
            ],
            "text/plain": [
              "  Sex  Length  Diameter  ...  Viscera weight  Shell weight  Adult\n",
              "0   M   0.455     0.365  ...          0.1010         0.150      1\n",
              "1   M   0.350     0.265  ...          0.0485         0.070      0\n",
              "2   F   0.530     0.420  ...          0.1415         0.210      1\n",
              "3   M   0.440     0.365  ...          0.1140         0.155      1\n",
              "4   M   0.330     0.255  ...          0.0395         0.055      0\n",
              "\n",
              "[5 rows x 9 columns]"
            ]
          },
          "metadata": {
            "tags": []
          },
          "execution_count": 4
        }
      ]
    },
    {
      "cell_type": "code",
      "metadata": {
        "colab": {
          "base_uri": "https://localhost:8080/",
          "height": 204
        },
        "id": "pOa25OARbdHs",
        "outputId": "60853ded-a308-4a21-81f4-cea9099ee67b"
      },
      "source": [
        "#Step3 : Clen and drop columsn not requried in model\r\n",
        "abalone_df_final = abalone_df.drop(['Sex'],axis=1)\r\n",
        "abalone_df_final.head()\r\n",
        "#Step4 : Crate dataset X with list of independent variable\r\n",
        "X = abalone_df_final.loc[:,abalone_df_final.columns != 'Adult']\r\n",
        "X.head()"
      ],
      "execution_count": null,
      "outputs": [
        {
          "output_type": "execute_result",
          "data": {
            "text/html": [
              "<div>\n",
              "<style scoped>\n",
              "    .dataframe tbody tr th:only-of-type {\n",
              "        vertical-align: middle;\n",
              "    }\n",
              "\n",
              "    .dataframe tbody tr th {\n",
              "        vertical-align: top;\n",
              "    }\n",
              "\n",
              "    .dataframe thead th {\n",
              "        text-align: right;\n",
              "    }\n",
              "</style>\n",
              "<table border=\"1\" class=\"dataframe\">\n",
              "  <thead>\n",
              "    <tr style=\"text-align: right;\">\n",
              "      <th></th>\n",
              "      <th>Length</th>\n",
              "      <th>Diameter</th>\n",
              "      <th>Height</th>\n",
              "      <th>Whole weight</th>\n",
              "      <th>Shucked weight</th>\n",
              "      <th>Viscera weight</th>\n",
              "      <th>Shell weight</th>\n",
              "    </tr>\n",
              "  </thead>\n",
              "  <tbody>\n",
              "    <tr>\n",
              "      <th>0</th>\n",
              "      <td>0.455</td>\n",
              "      <td>0.365</td>\n",
              "      <td>0.095</td>\n",
              "      <td>0.5140</td>\n",
              "      <td>0.2245</td>\n",
              "      <td>0.1010</td>\n",
              "      <td>0.150</td>\n",
              "    </tr>\n",
              "    <tr>\n",
              "      <th>1</th>\n",
              "      <td>0.350</td>\n",
              "      <td>0.265</td>\n",
              "      <td>0.090</td>\n",
              "      <td>0.2255</td>\n",
              "      <td>0.0995</td>\n",
              "      <td>0.0485</td>\n",
              "      <td>0.070</td>\n",
              "    </tr>\n",
              "    <tr>\n",
              "      <th>2</th>\n",
              "      <td>0.530</td>\n",
              "      <td>0.420</td>\n",
              "      <td>0.135</td>\n",
              "      <td>0.6770</td>\n",
              "      <td>0.2565</td>\n",
              "      <td>0.1415</td>\n",
              "      <td>0.210</td>\n",
              "    </tr>\n",
              "    <tr>\n",
              "      <th>3</th>\n",
              "      <td>0.440</td>\n",
              "      <td>0.365</td>\n",
              "      <td>0.125</td>\n",
              "      <td>0.5160</td>\n",
              "      <td>0.2155</td>\n",
              "      <td>0.1140</td>\n",
              "      <td>0.155</td>\n",
              "    </tr>\n",
              "    <tr>\n",
              "      <th>4</th>\n",
              "      <td>0.330</td>\n",
              "      <td>0.255</td>\n",
              "      <td>0.080</td>\n",
              "      <td>0.2050</td>\n",
              "      <td>0.0895</td>\n",
              "      <td>0.0395</td>\n",
              "      <td>0.055</td>\n",
              "    </tr>\n",
              "  </tbody>\n",
              "</table>\n",
              "</div>"
            ],
            "text/plain": [
              "   Length  Diameter  Height  ...  Shucked weight  Viscera weight  Shell weight\n",
              "0   0.455     0.365   0.095  ...          0.2245          0.1010         0.150\n",
              "1   0.350     0.265   0.090  ...          0.0995          0.0485         0.070\n",
              "2   0.530     0.420   0.135  ...          0.2565          0.1415         0.210\n",
              "3   0.440     0.365   0.125  ...          0.2155          0.1140         0.155\n",
              "4   0.330     0.255   0.080  ...          0.0895          0.0395         0.055\n",
              "\n",
              "[5 rows x 7 columns]"
            ]
          },
          "metadata": {
            "tags": []
          },
          "execution_count": 11
        }
      ]
    },
    {
      "cell_type": "code",
      "metadata": {
        "id": "k9aKWemtfGay"
      },
      "source": [
        "#Step 5 : Crate dataset Y with Dependent or target variable\r\n",
        "Y = abalone_df_final.Adult"
      ],
      "execution_count": null,
      "outputs": []
    },
    {
      "cell_type": "code",
      "metadata": {
        "colab": {
          "base_uri": "https://localhost:8080/"
        },
        "id": "t3Og925tlSfp",
        "outputId": "4d16c844-5c70-4244-d890-1cc6a74adb3d"
      },
      "source": [
        "#Step 6: Spilt X and Y into training and test dataset\r\n",
        "from sklearn.model_selection import train_test_split\r\n",
        "X_train, X_test, Y_train, Y_test = train_test_split(X, Y, test_size=0.30, random_state=1)\r\n",
        "print(X_train)\r\n",
        "print(X_test)\r\n",
        "print(Y_train)\r\n",
        "print(Y_test)"
      ],
      "execution_count": null,
      "outputs": [
        {
          "output_type": "stream",
          "text": [
            "      Length  Diameter  Height  ...  Shucked weight  Viscera weight  Shell weight\n",
            "3213   0.555     0.420   0.140  ...          0.3300          0.2430        0.2100\n",
            "4080   0.555     0.430   0.125  ...          0.3395          0.1355        0.2095\n",
            "1891   0.565     0.435   0.145  ...          0.3975          0.1580        0.2550\n",
            "3566   0.575     0.450   0.155  ...          0.3605          0.2110        0.2575\n",
            "3438   0.430     0.335   0.105  ...          0.1880          0.0785        0.0900\n",
            "...      ...       ...     ...  ...             ...             ...           ...\n",
            "2895   0.540     0.415   0.110  ...          0.2755          0.1500        0.1765\n",
            "2763   0.550     0.425   0.135  ...          0.2570          0.1700        0.2030\n",
            "905    0.320     0.240   0.090  ...          0.0700          0.0265        0.0425\n",
            "3980   0.525     0.410   0.115  ...          0.4160          0.1630        0.1800\n",
            "235    0.295     0.225   0.080  ...          0.0485          0.0320        0.0400\n",
            "\n",
            "[2923 rows x 7 columns]\n",
            "      Length  Diameter  Height  ...  Shucked weight  Viscera weight  Shell weight\n",
            "17     0.440     0.340   0.100  ...          0.1880          0.0870        0.1300\n",
            "1131   0.565     0.435   0.150  ...          0.5795          0.1825        0.2060\n",
            "299    0.370     0.280   0.105  ...          0.0905          0.0585        0.0750\n",
            "1338   0.580     0.455   0.135  ...          0.4050          0.1670        0.2040\n",
            "2383   0.525     0.390   0.135  ...          0.2265          0.1310        0.2100\n",
            "...      ...       ...     ...  ...             ...             ...           ...\n",
            "802    0.425     0.330   0.130  ...          0.1520          0.0935        0.1550\n",
            "3016   0.435     0.335   0.105  ...          0.1560          0.0500        0.1135\n",
            "2886   0.505     0.365   0.115  ...          0.2500          0.0960        0.1500\n",
            "2580   0.525     0.425   0.125  ...          0.4035          0.1705        0.1950\n",
            "2814   0.275     0.200   0.055  ...          0.0380          0.0210        0.0260\n",
            "\n",
            "[1254 rows x 7 columns]\n",
            "3213    1\n",
            "4080    0\n",
            "1891    1\n",
            "3566    1\n",
            "3438    0\n",
            "       ..\n",
            "2895    1\n",
            "2763    1\n",
            "905     0\n",
            "3980    0\n",
            "235     1\n",
            "Name: Adult, Length: 2923, dtype: int64\n",
            "17      1\n",
            "1131    0\n",
            "299     1\n",
            "1338    1\n",
            "2383    1\n",
            "       ..\n",
            "802     1\n",
            "3016    0\n",
            "2886    0\n",
            "2580    0\n",
            "2814    0\n",
            "Name: Adult, Length: 1254, dtype: int64\n"
          ],
          "name": "stdout"
        }
      ]
    },
    {
      "cell_type": "code",
      "metadata": {
        "colab": {
          "base_uri": "https://localhost:8080/"
        },
        "id": "URb6Zy4tnXP8",
        "outputId": "57df6f51-36de-4d29-ee5a-e17c84b3396f"
      },
      "source": [
        "#Step 7: Create and fit model\r\n",
        "from sklearn.linear_model import LogisticRegression\r\n",
        "logreg = LogisticRegression(random_state=3)\r\n",
        "logreg.fit(X_train,Y_train)"
      ],
      "execution_count": null,
      "outputs": [
        {
          "output_type": "execute_result",
          "data": {
            "text/plain": [
              "LogisticRegression(C=1.0, class_weight=None, dual=False, fit_intercept=True,\n",
              "                   intercept_scaling=1, l1_ratio=None, max_iter=100,\n",
              "                   multi_class='auto', n_jobs=None, penalty='l2',\n",
              "                   random_state=3, solver='lbfgs', tol=0.0001, verbose=0,\n",
              "                   warm_start=False)"
            ]
          },
          "metadata": {
            "tags": []
          },
          "execution_count": 21
        }
      ]
    },
    {
      "cell_type": "code",
      "metadata": {
        "colab": {
          "base_uri": "https://localhost:8080/"
        },
        "id": "1PNrfqBPoBcY",
        "outputId": "08ee4932-3cd5-4044-8175-a7a5ec08ec23"
      },
      "source": [
        "#Step 8: Predict Test Model\r\n",
        "y_pred_test = logreg.predict(X_test) \r\n",
        "print(y_pred_test)"
      ],
      "execution_count": null,
      "outputs": [
        {
          "output_type": "stream",
          "text": [
            "[0 1 0 ... 0 1 0]\n"
          ],
          "name": "stdout"
        }
      ]
    },
    {
      "cell_type": "code",
      "metadata": {
        "colab": {
          "base_uri": "https://localhost:8080/"
        },
        "id": "ir0ViL7LomRK",
        "outputId": "e79f91bf-f416-4ea9-d6bb-4293388c1f71"
      },
      "source": [
        "#Step 9: Evaluate Model\r\n",
        "from sklearn.metrics import accuracy_score\r\n",
        "print('Accuracy score for test data is:', accuracy_score(Y_test,y_pred_test))\r\n",
        "from sklearn.metrics import confusion_matrix\r\n",
        "\r\n",
        "confusion_matrix = pd.DataFrame(confusion_matrix(Y_test, y_pred_test))\r\n",
        "confusion_matrix.index = ['Actual Adult','Actual Non Adult']\r\n",
        "confusion_matrix.columns = ['Predicted Adult','Predicted Non Adult']\r\n",
        "\r\n",
        "print(confusion_matrix)"
      ],
      "execution_count": null,
      "outputs": [
        {
          "output_type": "stream",
          "text": [
            "Accuracy score for test data is: 0.8221690590111643\n",
            "                  Predicted Adult  Predicted Non Adult\n",
            "Actual Adult                  295                  112\n",
            "Actual Non Adult              111                  736\n"
          ],
          "name": "stdout"
        }
      ]
    }
  ]
}